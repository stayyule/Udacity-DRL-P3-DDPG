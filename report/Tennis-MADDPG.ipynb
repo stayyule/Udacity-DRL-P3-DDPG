{
 "cells": [
  {
   "cell_type": "markdown",
   "metadata": {},
   "source": [
    "# Collaboration and Competition\n",
    "\n",
    "---\n",
    "\n",
    "In this notebook, you will learn how to use the Unity ML-Agents environment for the third project of the [Deep Reinforcement Learning Nanodegree](https://www.udacity.com/course/deep-reinforcement-learning-nanodegree--nd893) program.\n",
    "\n",
    "### 1. Start the Environment\n",
    "\n",
    "We begin by importing the necessary packages.  If the code cell below returns an error, please revisit the project instructions to double-check that you have installed [Unity ML-Agents](https://github.com/Unity-Technologies/ml-agents/blob/master/docs/Installation.md) and [NumPy](http://www.numpy.org/)."
   ]
  },
  {
   "cell_type": "code",
   "execution_count": 1,
   "metadata": {},
   "outputs": [
    {
     "data": {
      "text/plain": [
       "True"
      ]
     },
     "execution_count": 1,
     "metadata": {},
     "output_type": "execute_result"
    }
   ],
   "source": [
    "import torch\n",
    "\n",
    "torch.cuda.is_available()"
   ]
  },
  {
   "cell_type": "code",
   "execution_count": 2,
   "metadata": {},
   "outputs": [],
   "source": [
    "# Unity ml-agents path\n",
    "import sys\n",
    "sys.path.append(\"../python/\")"
   ]
  },
  {
   "cell_type": "code",
   "execution_count": 3,
   "metadata": {},
   "outputs": [],
   "source": [
    "from unityagents import UnityEnvironment\n",
    "import numpy as np"
   ]
  },
  {
   "cell_type": "code",
   "execution_count": 4,
   "metadata": {},
   "outputs": [
    {
     "name": "stderr",
     "output_type": "stream",
     "text": [
      "INFO:unityagents:\n",
      "'Academy' started successfully!\n",
      "Unity Academy name: Academy\n",
      "        Number of Brains: 1\n",
      "        Number of External Brains : 1\n",
      "        Lesson number : 0\n",
      "        Reset Parameters :\n",
      "\t\t\n",
      "Unity brain name: TennisBrain\n",
      "        Number of Visual Observations (per agent): 0\n",
      "        Vector Observation space type: continuous\n",
      "        Vector Observation space size (per agent): 8\n",
      "        Number of stacked Vector Observation: 3\n",
      "        Vector Action space type: continuous\n",
      "        Vector Action space size (per agent): 2\n",
      "        Vector Action descriptions: , \n"
     ]
    }
   ],
   "source": [
    "env = UnityEnvironment(file_name=\"../Tennis_Windows_x86_64/Tennis.exe\")"
   ]
  },
  {
   "cell_type": "code",
   "execution_count": 5,
   "metadata": {},
   "outputs": [],
   "source": [
    "# get the default brain\n",
    "brain_name = env.brain_names[0]\n",
    "brain = env.brains[brain_name]"
   ]
  },
  {
   "cell_type": "code",
   "execution_count": 6,
   "metadata": {},
   "outputs": [
    {
     "name": "stdout",
     "output_type": "stream",
     "text": [
      "Number of agents: 2\n",
      "Size of each action: 2\n",
      "There are 2 agents. Each observes a state with length: 24\n",
      "The state for the first agent looks like: [ 0.          0.          0.          0.          0.          0.\n",
      "  0.          0.          0.          0.          0.          0.\n",
      "  0.          0.          0.          0.         -6.65278625 -1.5\n",
      " -0.          0.          6.83172083  6.         -0.          0.        ]\n"
     ]
    }
   ],
   "source": [
    "# reset the environment\n",
    "env_info = env.reset(train_mode=True)[brain_name]\n",
    "\n",
    "# number of agents \n",
    "num_agents = len(env_info.agents)\n",
    "print('Number of agents:', num_agents)\n",
    "\n",
    "# size of each action\n",
    "action_size = brain.vector_action_space_size\n",
    "print('Size of each action:', action_size)\n",
    "\n",
    "# examine the state space \n",
    "states = env_info.vector_observations\n",
    "state_size = states.shape[1]\n",
    "print('There are {} agents. Each observes a state with length: {}'.format(states.shape[0], state_size))\n",
    "print('The state for the first agent looks like:', states[0])"
   ]
  },
  {
   "cell_type": "markdown",
   "metadata": {},
   "source": [
    "When finished, you can close the environment."
   ]
  },
  {
   "cell_type": "code",
   "execution_count": 7,
   "metadata": {},
   "outputs": [],
   "source": [
    "# env.close()"
   ]
  },
  {
   "cell_type": "markdown",
   "metadata": {},
   "source": [
    "### 4. It's Your Turn!\n",
    "\n",
    "Now it's your turn to train your own agent to solve the environment!  When training the environment, set `train_mode=True`, so that the line for resetting the environment looks like the following:\n",
    "```python\n",
    "env_info = env.reset(train_mode=True)[brain_name]\n",
    "```"
   ]
  },
  {
   "cell_type": "code",
   "execution_count": 8,
   "metadata": {},
   "outputs": [],
   "source": [
    "import maddpg_v2\n",
    "from imp import reload\n",
    "reload(maddpg_v2)\n",
    "from maddpg_v2 import *"
   ]
  },
  {
   "cell_type": "code",
   "execution_count": 9,
   "metadata": {},
   "outputs": [],
   "source": [
    "# from maddpg_agent import *\n",
    "\n",
    "import matplotlib.pyplot as plt\n",
    "%matplotlib inline\n",
    "import time\n",
    "\n",
    "\n",
    "def train(n_episodes=500, max_t=1000, random_seed=1, agent=None, debug=False):\n",
    "    if agent == None:\n",
    "        agent = [Agent(state_size=state_size, action_size=action_size, \n",
    "                          random_seed=random_seed, \n",
    "                       num_agents=num_agents, agent_index=i) for i in range(num_agents)]\n",
    "        \n",
    "    scores_window = deque(maxlen=100)  # last 100 scores\n",
    "    scores_plot = []\n",
    "    scores_ave = []\n",
    "    scores_agent = []\n",
    "    c_loss_plot = [[] for i in range(num_agents)]\n",
    "    a_loss_plot = [[] for i in range(num_agents)]\n",
    "    total_t = 0\n",
    "    \n",
    "    for i_episode in range(1, n_episodes + 1):\n",
    "        \n",
    "        env_info = env.reset(train_mode=True)[brain_name]\n",
    "        states = env_info.vector_observations\n",
    "        scores = np.zeros(num_agents)\n",
    "        \n",
    "        time_start = time.time()\n",
    "        for _ in range(max_t):\n",
    "            total_t += 1\n",
    "            actions = [ agent[i].act(states[i]) for i in range(num_agents) ]\n",
    "            actions = np.vstack(actions)\n",
    "            env_info = env.step(actions)[brain_name]\n",
    "            next_states = env_info.vector_observations  # get the next state\n",
    "            rewards = env_info.rewards  # get the reward\n",
    "            dones = env_info.local_done  # see if episode has finished\n",
    "            states = next_states\n",
    "            scores += rewards\n",
    "            \n",
    "            for i in range(num_agents):\n",
    "                c_loss, a_loss = agent[i].step(states[i], states, \n",
    "                                               actions[i], actions, \n",
    "                                            rewards[i], next_states[i], next_states, \n",
    "                                            dones[i], timestep=total_t)            \n",
    "                \n",
    "                if len(c_loss) > 0: \n",
    "                    c_loss_plot[i] += c_loss\n",
    "                if len(a_loss) > 0: \n",
    "                    a_loss_plot[i] += a_loss\n",
    "                \n",
    "            if np.any(dones):\n",
    "                break\n",
    "            \n",
    "        duration = time.time() - time_start\n",
    "        scores_window.append(np.mean(scores))  # save most recent score\n",
    "        scores_plot.append(np.mean(scores))\n",
    "        scores_ave.append(np.mean(scores_window))\n",
    "        scores_agent.append(scores)\n",
    "                \n",
    "        print('\\rEpisode {}({}sec)\\t MIN:{:.2f} MAX:{:.2f} MEAN:{:.2f} MEANo100:{:.2f} Batch Size: {} {}'.format(i_episode, \n",
    "                                    round(duration), np.min(scores), \n",
    "                                     np.max(scores), np.mean(scores), \n",
    "                                     np.mean(scores_window), \n",
    "                                     format(len(agent[0].memory)), ' '*10), end=\"\")\n",
    "        if i_episode % 100 == 0:\n",
    "            print('\\nEpisode {}\\tAverage Score: {:.2f}\\\n",
    "                \\tTimestep: {}'.format(i_episode, \n",
    "                                       np.mean(scores_window), \n",
    "                                       total_t))\n",
    "            # plot the scores\n",
    "            fig, ax = plt.subplots()\n",
    "            \n",
    "            plt.plot(np.arange(len(scores_ave)), scores_ave, label='Score Mean 100')\n",
    "            for i in range(num_agents):\n",
    "                plt.plot(np.arange(len(np.vstack(scores_agent))), \n",
    "                         np.vstack(scores_agent)[:,i], label='Agent {}'.format(i+1))\n",
    "            plt.plot(np.arange(len(scores_plot)), scores_plot, label='Score Ave')\n",
    "            plt.xlabel('Episode #')\n",
    "            ax.legend()\n",
    "            plt.show()\n",
    "            \n",
    "            if len(np.array(c_loss_plot).reshape(-1)):\n",
    "                # c loss\n",
    "#                 print(c_loss_plot)\n",
    "                c_loss_agents = np.array(c_loss_plot).reshape(num_agents, -1)\n",
    "#                 print(c_loss_agents)\n",
    "                fig, ax = plt.subplots()\n",
    "                for i in range(num_agents):\n",
    "                    plt.plot(np.arange(len(c_loss_agents[i])), c_loss_agents[i], label='Agent {}'.format(i+1))\n",
    "                plt.xlabel('Learn #')\n",
    "                plt.ylabel('Q')\n",
    "                ax.legend()\n",
    "                plt.show()\n",
    "            \n",
    "            if len(np.array(a_loss_plot).reshape(-1)):\n",
    "                # a loss\n",
    "                a_loss_agents = np.array(a_loss_plot).reshape(num_agents, -1)\n",
    "                fig, ax = plt.subplots()\n",
    "                for i in range(num_agents):\n",
    "                    plt.plot(np.arange(len(a_loss_agents[i])), a_loss_agents[i], label='Agent {}'.format(i+1))\n",
    "                plt.xlabel('Learn #')\n",
    "                plt.ylabel('Policy')\n",
    "                ax.legend()\n",
    "                plt.show()\n",
    "            \n",
    "            for i in range(num_agents):\n",
    "                torch.save(agent[i].actor_local.state_dict(), 'actor{}_{}.pth'.format(i, i_episode))\n",
    "                torch.save(agent[i].critic_local.state_dict(), 'critic{}_{}.pth'.format(i, i_episode))\n",
    "\n",
    "        if np.mean(scores_window) >= 0.5:\n",
    "            print('\\nEnvironment solved in {:d} episodes!\\tAverage Score: {:.2f}'.format(i_episode,\n",
    "                                                                                         np.mean(scores_window)))\n",
    "            for i in range(num_agents):\n",
    "                torch.save(agent[i].actor_local.state_dict(), 'actor{}.pth'.format(i))\n",
    "                torch.save(agent[i].critic_local.state_dict(), 'critic{}.pth'.format(i))\n",
    "            break\n",
    "            \n",
    "    return scores_ave, agent\n"
   ]
  },
  {
   "cell_type": "markdown",
   "metadata": {},
   "source": [
    "#### Sanity test\n",
    "\n",
    "```python\n",
    "# TEST\n",
    "BUFFER_SIZE = 32\n",
    "BATCH_SIZE = 8         # minibatch size\n",
    "LEARN_EVERY = 1       # learning timestep interval\n",
    "LEARN_NUM = 1           # number of learning passes\n",
    "LEARN_AFTER = 0\n",
    "```"
   ]
  },
  {
   "cell_type": "code",
   "execution_count": 25,
   "metadata": {},
   "outputs": [],
   "source": [
    "import maddpg_v2\n",
    "from imp import reload\n",
    "reload(maddpg_v2)\n",
    "from maddpg_v2 import *"
   ]
  },
  {
   "cell_type": "code",
   "execution_count": 11,
   "metadata": {},
   "outputs": [
    {
     "name": "stdout",
     "output_type": "stream",
     "text": [
      "Episode 4(0sec)\t MIN:-0.01 MAX:0.00 MEAN:-0.00 MEANo100:-0.00 Batch Size: 58           "
     ]
    },
    {
     "data": {
      "text/plain": [
       "([-0.004999999888241291,\n",
       "  -0.004999999888241291,\n",
       "  -0.004999999888241291,\n",
       "  -0.004999999888241291],\n",
       " [<maddpg_v2.Agent at 0xa99c0b8>, <maddpg_v2.Agent at 0xa91cb00>])"
      ]
     },
     "execution_count": 11,
     "metadata": {},
     "output_type": "execute_result"
    }
   ],
   "source": [
    "train(n_episodes=4)"
   ]
  },
  {
   "cell_type": "code",
   "execution_count": 12,
   "metadata": {
    "scrolled": false
   },
   "outputs": [],
   "source": [
    "def play(play_agent, t=10):\n",
    "    # trained model\n",
    "    # play times\n",
    "    for i in range(t):                                      # play game for 5 episodes\n",
    "        env_info = env.reset(train_mode=False)[brain_name]     # reset the environment    \n",
    "        states = env_info.vector_observations                  # get the current state (for each agent)\n",
    "        scores = np.zeros(num_agents)                          # initialize the score (for each agent)\n",
    "        while True:\n",
    "#             actions = play_agent.act(states, add_noise=False)                  # all actions between -1 and 1\n",
    "            actions = [ play_agent[i].act(states[i], add_noise=False) for i in range(num_agents) ]\n",
    "            actions = np.vstack(actions)\n",
    "            env_info = env.step(actions)[brain_name]           # send all actions to tne environment\n",
    "            next_states = env_info.vector_observations         # get next state (for each agent)\n",
    "            rewards = env_info.rewards                         # get reward (for each agent)\n",
    "            dones = env_info.local_done                        # see if episode finished\n",
    "            scores += env_info.rewards                         # update the score (for each agent)\n",
    "            states = next_states                               # roll over states to next time step\n",
    "            if np.any(dones):                                  # exit loop if episode finished\n",
    "                break\n",
    "        print('Score (sum over agents) from episode {}: {:.2f}'.format(i, np.sum(scores)))"
   ]
  },
  {
   "cell_type": "markdown",
   "metadata": {},
   "source": [
    "#### Experiment 8\n"
   ]
  },
  {
   "cell_type": "code",
   "execution_count": 155,
   "metadata": {},
   "outputs": [],
   "source": [
    "import maddpg_v2\n",
    "from imp import reload\n",
    "reload(maddpg_v2)\n",
    "from maddpg_v2 import *"
   ]
  },
  {
   "cell_type": "code",
   "execution_count": 156,
   "metadata": {
    "scrolled": true
   },
   "outputs": [
    {
     "name": "stdout",
     "output_type": "stream",
     "text": [
      "Episode 100(0sec)\t MIN:-0.01 MAX:0.00 MEAN:-0.00 MEANo100:-0.00 Batch Size: 512           \n",
      "Episode 100\tAverage Score: -0.00                \tTimestep: 1420\n"
     ]
    },
    {
     "data": {
      "image/png": "[encoded data removed]",
      "text/plain": [
       "<Figure size 432x288 with 1 Axes>"
      ]
     },
     "metadata": {
      "needs_background": "light"
     },
     "output_type": "display_data"
    }
   ],
   "source": [
    "scores_ave, agent = train(n_episodes=100, random_seed=SEED)"
   ]
  },
  {
   "cell_type": "code",
   "execution_count": 154,
   "metadata": {},
   "outputs": [
    {
     "name": "stdout",
     "output_type": "stream",
     "text": [
      "Score (sum over agents) from episode 0: -0.01\n",
      "Score (sum over agents) from episode 1: -0.01\n",
      "Score (sum over agents) from episode 2: -0.01\n",
      "Score (sum over agents) from episode 3: -0.01\n",
      "Score (sum over agents) from episode 4: -0.01\n",
      "Score (sum over agents) from episode 5: -0.01\n",
      "Score (sum over agents) from episode 6: -0.01\n",
      "Score (sum over agents) from episode 7: -0.01\n",
      "Score (sum over agents) from episode 8: -0.01\n",
      "Score (sum over agents) from episode 9: -0.01\n",
      "Score (sum over agents) from episode 10: -0.01\n",
      "Score (sum over agents) from episode 11: -0.01\n",
      "Score (sum over agents) from episode 12: -0.01\n",
      "Score (sum over agents) from episode 13: -0.01\n",
      "Score (sum over agents) from episode 14: -0.01\n",
      "Score (sum over agents) from episode 15: -0.01\n",
      "Score (sum over agents) from episode 16: -0.01\n",
      "Score (sum over agents) from episode 17: -0.01\n",
      "Score (sum over agents) from episode 18: -0.01\n",
      "Score (sum over agents) from episode 19: -0.01\n"
     ]
    }
   ],
   "source": [
    "# read model weights\n",
    "best_agent_0 = Agent(state_size=state_size, action_size=action_size, random_seed=1, num_agents=num_agents, agent_index=0)\n",
    "best_agent_1 = Agent(state_size=state_size, action_size=action_size, random_seed=1, num_agents=num_agents, agent_index=1)\n",
    "actor_state_dict_0 = torch.load('./actor0_5000.pth')\n",
    "actor_state_dict_1 = torch.load('./actor1_5000.pth')\n",
    "\n",
    "best_agent_0.actor_local.load_state_dict(actor_state_dict_0)\n",
    "best_agent_1.actor_local.load_state_dict(actor_state_dict_1)\n",
    "\n",
    "play([best_agent_0, best_agent_1], t=20)"
   ]
  },
  {
   "cell_type": "markdown",
   "metadata": {},
   "source": [
    "Hyperparameters:\n",
    "\n",
    "```python\n",
    "BUFFER_SIZE = 2**17  # replay buffer size\n",
    "BATCH_SIZE = 20         # minibatch size\n",
    "GAMMA = 0.95            # discount factor\n",
    "TAU_ACTOR = 1e-2              # for soft update of target parameters\n",
    "TAU_CRITIC = 1e-2              # for soft update of target parameters\n",
    "LR_ACTOR = 1e-3         # learning rate of the actor\n",
    "LR_CRITIC = 1e-3        # learning rate of the critic\n",
    "LEARN_EVERY = 1        # learning timestep interval\n",
    "LEARN_NUM = 1           # number of learning passes\n",
    "LEARN_AFTER = 3000\n",
    "SEED = 1\n",
    "```"
   ]
  },
  {
   "cell_type": "code",
   "execution_count": 106,
   "metadata": {
    "scrolled": true
   },
   "outputs": [
    {
     "name": "stdout",
     "output_type": "stream",
     "text": [
      "Score (sum over agents) from episode 0: -0.01\n",
      "Score (sum over agents) from episode 1: -0.01\n",
      "Score (sum over agents) from episode 2: -0.01\n",
      "Score (sum over agents) from episode 3: -0.01\n",
      "Score (sum over agents) from episode 4: -0.01\n",
      "Score (sum over agents) from episode 5: 0.19\n",
      "Score (sum over agents) from episode 6: 0.09\n",
      "Score (sum over agents) from episode 7: -0.01\n",
      "Score (sum over agents) from episode 8: -0.01\n",
      "Score (sum over agents) from episode 9: -0.01\n",
      "Score (sum over agents) from episode 10: -0.01\n",
      "Score (sum over agents) from episode 11: -0.01\n",
      "Score (sum over agents) from episode 12: 0.19\n",
      "Score (sum over agents) from episode 13: 0.09\n",
      "Score (sum over agents) from episode 14: -0.01\n",
      "Score (sum over agents) from episode 15: -0.01\n",
      "Score (sum over agents) from episode 16: -0.01\n",
      "Score (sum over agents) from episode 17: -0.01\n",
      "Score (sum over agents) from episode 18: -0.01\n",
      "Score (sum over agents) from episode 19: -0.01\n"
     ]
    }
   ],
   "source": [
    "# read model weights\n",
    "best_agent_0 = Agent(state_size=state_size, action_size=action_size, random_seed=1, num_agents=num_agents, agent_index=0)\n",
    "best_agent_1 = Agent(state_size=state_size, action_size=action_size, random_seed=1, num_agents=num_agents, agent_index=1)\n",
    "actor_state_dict_0 = torch.load('./actor0_200.pth')\n",
    "actor_state_dict_1 = torch.load('./actor1_200.pth')\n",
    "\n",
    "best_agent_0.actor_local.load_state_dict(actor_state_dict_0)\n",
    "best_agent_1.actor_local.load_state_dict(actor_state_dict_1)\n",
    "\n",
    "play([best_agent_0, best_agent_1], t=20)"
   ]
  },
  {
   "cell_type": "code",
   "execution_count": null,
   "metadata": {},
   "outputs": [],
   "source": [
    "fig, ax = plt.subplots()\n",
    "\n",
    "plt.plot(np.arange(len(scores_ave)), scores_ave, label='Score Mean 100')\n",
    "plt.xlabel('Episode #')\n",
    "\n",
    "ax.legend()\n",
    "plt.show()\n"
   ]
  },
  {
   "cell_type": "code",
   "execution_count": null,
   "metadata": {},
   "outputs": [],
   "source": [
    "# env.close()"
   ]
  },
  {
   "cell_type": "code",
   "execution_count": null,
   "metadata": {},
   "outputs": [],
   "source": [
    "# To test OUNoise hyperparameters\n",
    "oun = OUNoise(size=1, seed=1, mu=-0.1, theta=0.15, sigma=0.15)\n",
    "cnt = 10000\n",
    "result = []\n",
    "for _ in range(cnt):\n",
    "    r = oun.sample()\n",
    "    result.append(r)\n",
    "\n",
    "fig, ax = plt.subplots()\n",
    "plt.plot(np.arange(cnt), result, label='OUN noise')\n",
    "\n",
    "ax.legend()\n",
    "plt.show()"
   ]
  },
  {
   "cell_type": "code",
   "execution_count": null,
   "metadata": {},
   "outputs": [],
   "source": []
  }
 ],
 "metadata": {
  "kernelspec": {
   "display_name": "Python 3",
   "language": "python",
   "name": "python3"
  },
  "language_info": {
   "codemirror_mode": {
    "name": "ipython",
    "version": 3
   },
   "file_extension": ".py",
   "mimetype": "text/x-python",
   "name": "python",
   "nbconvert_exporter": "python",
   "pygments_lexer": "ipython3",
   "version": "3.6.6"
  }
 },
 "nbformat": 4,
 "nbformat_minor": 2
}
